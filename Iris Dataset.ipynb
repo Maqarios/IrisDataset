{
 "cells": [
  {
   "cell_type": "markdown",
   "metadata": {},
   "source": [
    "# Iris Dataset Classification"
   ]
  },
  {
   "cell_type": "markdown",
   "metadata": {},
   "source": [
    "## Loading Iris Dataset"
   ]
  },
  {
   "cell_type": "code",
   "execution_count": 12,
   "metadata": {},
   "outputs": [],
   "source": [
    "from sklearn import datasets\n",
    "from sklearn.preprocessing import StandardScaler\n",
    "\n",
    "iris = datasets.load_iris()\n",
    "\n",
    "scaler = StandardScaler()\n",
    "iris.data = scaler.fit_transform(iris.data, iris.target)\n",
    "\n",
    "X = iris.data\n",
    "y = iris.target"
   ]
  },
  {
   "cell_type": "markdown",
   "metadata": {},
   "source": [
    "## Setting Up The Data Frame"
   ]
  },
  {
   "cell_type": "code",
   "execution_count": 13,
   "metadata": {},
   "outputs": [],
   "source": [
    "import pandas as pd\n",
    "import numpy as np\n",
    "\n",
    "df_iris = pd.DataFrame(X)\n",
    "df_iris[len(df_iris.columns)] = y\n",
    "\n",
    "df_iris.columns = np.append(iris.feature_names, 'class')"
   ]
  },
  {
   "cell_type": "markdown",
   "metadata": {},
   "source": [
    "## Seperating Train & Test"
   ]
  },
  {
   "cell_type": "code",
   "execution_count": 14,
   "metadata": {},
   "outputs": [],
   "source": [
    "from sklearn.model_selection import train_test_split\n",
    "\n",
    "X_train, X_test, y_train, y_test = train_test_split(X, y, random_state=0, test_size=0.2)"
   ]
  },
  {
   "cell_type": "markdown",
   "metadata": {},
   "source": [
    "## Defining C Hyperparameter Test Function (Linear)"
   ]
  },
  {
   "cell_type": "code",
   "execution_count": 24,
   "metadata": {},
   "outputs": [],
   "source": [
    "from sklearn.model_selection import ShuffleSplit\n",
    "from sklearn.model_selection import GridSearchCV\n",
    "from sklearn.svm import LinearSVC\n",
    "\n",
    "def grid_linear_svc_test(X, y, c):\n",
    "    cv_sets = ShuffleSplit(test_size = 0.20, random_state = 0)\n",
    "    svc = LinearSVC(loss='hinge', random_state=0)\n",
    "    params = {'C': c}\n",
    "    grid = GridSearchCV(svc, params, cv=cv_sets)\n",
    "    grid = grid.fit(X, y)\n",
    "    return grid"
   ]
  },
  {
   "cell_type": "markdown",
   "metadata": {},
   "source": [
    "## Generating C Values & Testing Them On The Training Set (Linear)"
   ]
  },
  {
   "cell_type": "code",
   "execution_count": 28,
   "metadata": {},
   "outputs": [],
   "source": [
    "import math\n",
    "\n",
    "def generate_polynomials(base, min_exp, max_exp):\n",
    "    output = []\n",
    "    for i in np.arange(min_exp, max_exp+1):\n",
    "        if(i > 0):\n",
    "            output += [base**i]\n",
    "    return output\n",
    "\n",
    "c = generate_polynomials(2, 1, 20)\n",
    "grid = grid_linear_svc_test(X_train, y_train, c)\n",
    "\n",
    "left_boundry_exp = math.log(grid.best_estimator_.C, 2) - 1\n",
    "right_boundry_exp = math.log(grid.best_estimator_.C, 2) + 1\n",
    "\n",
    "c = np.arange(math.pow(2, left_boundry_exp), math.pow(2, right_boundry_exp), 1)\n",
    "grid = grid_linear_svc_test(X_train, y_train, c)"
   ]
  },
  {
   "cell_type": "markdown",
   "metadata": {},
   "source": [
    "## Displaying Best C & Best Score"
   ]
  },
  {
   "cell_type": "code",
   "execution_count": 29,
   "metadata": {},
   "outputs": [
    {
     "name": "stdout",
     "output_type": "stream",
     "text": [
      "Best C    : 507.0\n",
      "Best Score: 95.41666666666667 %\n"
     ]
    }
   ],
   "source": [
    "print(\"Best C    :\", grid.best_estimator_.C)\n",
    "print(\"Best Score:\", grid.best_score_ * 100, \"%\")"
   ]
  },
  {
   "cell_type": "markdown",
   "metadata": {},
   "source": [
    "## Test Set Score (Linear)"
   ]
  },
  {
   "cell_type": "code",
   "execution_count": 30,
   "metadata": {},
   "outputs": [
    {
     "name": "stdout",
     "output_type": "stream",
     "text": [
      "Test Set Score 96.66666666666667 %\n"
     ]
    }
   ],
   "source": [
    "print(\"Test Set Score\", grid.best_estimator_.score(X_test, y_test) * 100, \"%\")"
   ]
  },
  {
   "cell_type": "markdown",
   "metadata": {},
   "source": [
    "## Using Polynomial SVC"
   ]
  },
  {
   "cell_type": "code",
   "execution_count": 19,
   "metadata": {},
   "outputs": [],
   "source": [
    "from sklearn.preprocessing import PolynomialFeatures\n",
    "from sklearn.svm import SVC\n",
    "\n",
    "def grid_poly_svc_test(X, y, c, degree, coef0):\n",
    "    cv_sets = ShuffleSplit(test_size = 0.20, random_state = 0)\n",
    "    svc = SVC(kernel=\"poly\", random_state=0)\n",
    "    params = {'C': c, \"degree\": degree, \"coef0\": coef0}\n",
    "    grid = GridSearchCV(svc, params, cv=cv_sets)\n",
    "    grid = grid.fit(X, y)\n",
    "    return grid"
   ]
  },
  {
   "cell_type": "markdown",
   "metadata": {},
   "source": [
    "## Generating C Values & Testing Them On The Training Set (Polynomial)"
   ]
  },
  {
   "cell_type": "code",
   "execution_count": 20,
   "metadata": {},
   "outputs": [],
   "source": [
    "c = np.logspace(-10, 11, base=2)\n",
    "degree = np.arange(2, 10, 1)\n",
    "coef0 = np.arange(-10, 11, 1)\n",
    "\n",
    "grid = grid_poly_svc_test(X_train, y_train, c, degree, coef0)"
   ]
  },
  {
   "cell_type": "markdown",
   "metadata": {},
   "source": [
    "## Displaying Best C & Best Degree & Best Coef0 & Best Score"
   ]
  },
  {
   "cell_type": "code",
   "execution_count": 21,
   "metadata": {},
   "outputs": [
    {
     "name": "stdout",
     "output_type": "stream",
     "text": [
      "Best C     : 0.37149857228423705\n",
      "Best Degree: 3\n",
      "Best Coef0 : 1\n",
      "Best Score : 96.66666666666667 %\n"
     ]
    }
   ],
   "source": [
    "print(\"Best C     :\", grid.best_estimator_.C)\n",
    "print(\"Best Degree:\", grid.best_estimator_.degree)\n",
    "print(\"Best Coef0 :\", grid.best_estimator_.coef0)\n",
    "print(\"Best Score :\", grid.best_score_ * 100, \"%\")"
   ]
  },
  {
   "cell_type": "markdown",
   "metadata": {},
   "source": [
    "## Test Set  (Polynomial)"
   ]
  },
  {
   "cell_type": "code",
   "execution_count": 23,
   "metadata": {},
   "outputs": [
    {
     "name": "stdout",
     "output_type": "stream",
     "text": [
      "Test Set Score 100.0 %\n"
     ]
    }
   ],
   "source": [
    "print(\"Test Set Score\", grid.best_estimator_.score(X_test, y_test) * 100, \"%\")"
   ]
  }
 ],
 "metadata": {
  "kernelspec": {
   "display_name": "Python 3",
   "language": "python",
   "name": "python3"
  },
  "language_info": {
   "codemirror_mode": {
    "name": "ipython",
    "version": 3
   },
   "file_extension": ".py",
   "mimetype": "text/x-python",
   "name": "python",
   "nbconvert_exporter": "python",
   "pygments_lexer": "ipython3",
   "version": "3.6.4"
  }
 },
 "nbformat": 4,
 "nbformat_minor": 2
}
